{
 "cells": [
  {
   "cell_type": "markdown",
   "metadata": {},
   "source": [
    "### Taller 1"
   ]
  },
  {
   "cell_type": "markdown",
   "metadata": {},
   "source": [
    "Tiene una base de avalúos comerciales de precios de vivienda en Colombia.\n",
    "\n",
    "1. Defina un propósito y discuta como la interpretación de modelos aporta de dicho propósito. Puede tomar uno de los siguientes:\n",
    "*\tServicio a clientes para estimar precios de vivienda para apoyar su búsqueda de vivienda\n",
    "*\tRecomendaciones automáticas de vivienda\n",
    "*\tApoyar área de garantías inmobiliarias en que los inmuebles dados como garantía si tengan el precio adecuado\n",
    "*\tRemplazar peritos para uso internos de banco\n",
    "*\tRemplazo de peritos para avalúos de crédito hipotecario de clientes\n",
    "\n",
    "\n",
    "Nota: A medida que desarrollo el taller quizá se dé la necesidad de volver a este punto a refinar\n"
   ]
  },
  {
   "cell_type": "code",
   "execution_count": null,
   "metadata": {},
   "outputs": [],
   "source": [
    "Datos = pd.read_excel('data/entrenamiento_precios_vivienda.xlsx')"
   ]
  },
  {
   "cell_type": "markdown",
   "metadata": {},
   "source": [
    "2.\tComo la interpretación local apoya dicho propósito del modelo de avalúos.\n",
    "\n"
   ]
  },
  {
   "cell_type": "code",
   "execution_count": null,
   "metadata": {},
   "outputs": [],
   "source": []
  },
  {
   "cell_type": "markdown",
   "metadata": {},
   "source": [
    "3.\tQue características, y de sus posibles transformaciones, va a usar y por qué las eligió.\n"
   ]
  },
  {
   "cell_type": "code",
   "execution_count": null,
   "metadata": {},
   "outputs": [],
   "source": []
  },
  {
   "cell_type": "markdown",
   "metadata": {},
   "source": [
    "4.\tAplique por lo menos 2 modelos intrínsecamente interpretables a avalúos, interprételos y compárelos.\n"
   ]
  },
  {
   "cell_type": "code",
   "execution_count": null,
   "metadata": {},
   "outputs": [],
   "source": []
  },
  {
   "cell_type": "markdown",
   "metadata": {},
   "source": [
    "5.\tQue tanto aporta un modelo de caja negra con respecto a una de caja blanca (Modelo intrínsecamente interpretable)\n"
   ]
  },
  {
   "cell_type": "code",
   "execution_count": null,
   "metadata": {},
   "outputs": [],
   "source": []
  },
  {
   "cell_type": "markdown",
   "metadata": {},
   "source": [
    "6.\tExiste algunas diferencias, sustancial, en la interpretación de inmuebles en Bogotá y Medellín.\n"
   ]
  },
  {
   "cell_type": "code",
   "execution_count": null,
   "metadata": {},
   "outputs": [],
   "source": []
  },
  {
   "cell_type": "markdown",
   "metadata": {},
   "source": [
    "7.\tPara los registros de índice 9, 33 aplique Shap y Lime para dicha interpretación. Compare resultados. ¿Cual le ayuda más para su propósito?\n"
   ]
  },
  {
   "cell_type": "code",
   "execution_count": null,
   "metadata": {},
   "outputs": [],
   "source": []
  },
  {
   "cell_type": "markdown",
   "metadata": {},
   "source": [
    "8.\tConclusiones generales del ejercicio."
   ]
  },
  {
   "cell_type": "code",
   "execution_count": null,
   "metadata": {},
   "outputs": [],
   "source": []
  },
  {
   "cell_type": "code",
   "execution_count": null,
   "metadata": {},
   "outputs": [],
   "source": []
  }
 ],
 "metadata": {
  "kernelspec": {
   "display_name": "Python 3",
   "language": "python",
   "name": "python3"
  },
  "language_info": {
   "codemirror_mode": {
    "name": "ipython",
    "version": 3
   },
   "file_extension": ".py",
   "mimetype": "text/x-python",
   "name": "python",
   "nbconvert_exporter": "python",
   "pygments_lexer": "ipython3",
   "version": "3.8.3"
  }
 },
 "nbformat": 4,
 "nbformat_minor": 4
}
