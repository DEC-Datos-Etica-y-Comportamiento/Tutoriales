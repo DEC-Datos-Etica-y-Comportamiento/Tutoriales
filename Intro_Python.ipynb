{
 "cells": [
  {
   "cell_type": "markdown",
   "metadata": {
    "colab_type": "text",
    "id": "aDaMLDnAPBMf"
   },
   "source": [
    "# Introducción a Python\n"
   ]
  },
  {
   "cell_type": "markdown",
   "metadata": {},
   "source": [
    "## ¿Que es programar?"
   ]
  },
  {
   "cell_type": "code",
   "execution_count": null,
   "metadata": {},
   "outputs": [],
   "source": [
    "print('¡Hola Mundo!')\n",
    "print('¿Cual es tu nombre?') # Preguntar por tu nombre\n",
    "MiNombre = input()\n",
    "print('¡Hola ' + MiNombre +'! que bueno conocerte.')\n",
    "print(\"\\n\")\n",
    "print('¿Sabías que tu nombre tiene una longitud de '+str(len(MiNombre)) +' cáracteres?')\n",
    "print(\"\\n\")\n",
    "print('¿Te puedo ayudar con tus cálculos financieros? Por ejemplo, si prestas determinada \\\n",
    "cantidad de dinero para ser devuelta en un mes a cierto tipo de interés te puedo \\\n",
    "ayudar en determinar tus ganancias.')\n",
    "print(\"\\n\")\n",
    "print('¿Cuánto dinero prestaste?:')\n",
    "MontoPrestado=float(input('Escribe un numero: '))\n",
    "print('¿A que tipo de interés?:')\n",
    "TipoInteres=float(input('Escribe un numero en fracción(e.g 0.12): '))\n",
    "Ganancia = MontoPrestado - MontoPrestado*TipoInteres\n",
    "print('Tus intereses devengados son: ' + str(Ganancia) )"
   ]
  },
  {
   "cell_type": "markdown",
   "metadata": {},
   "source": [
    "## Variables y tipos de variables"
   ]
  },
  {
   "cell_type": "code",
   "execution_count": null,
   "metadata": {},
   "outputs": [],
   "source": [
    "Dinero  = 100"
   ]
  },
  {
   "cell_type": "code",
   "execution_count": null,
   "metadata": {},
   "outputs": [],
   "source": [
    "Dinero"
   ]
  },
  {
   "cell_type": "code",
   "execution_count": null,
   "metadata": {},
   "outputs": [],
   "source": [
    "Dinero2 = 100.5"
   ]
  },
  {
   "cell_type": "code",
   "execution_count": null,
   "metadata": {},
   "outputs": [],
   "source": [
    "Dinero2"
   ]
  },
  {
   "cell_type": "code",
   "execution_count": null,
   "metadata": {},
   "outputs": [],
   "source": [
    "type(Dinero)"
   ]
  },
  {
   "cell_type": "code",
   "execution_count": null,
   "metadata": {},
   "outputs": [],
   "source": [
    "type(Dinero2)"
   ]
  },
  {
   "cell_type": "code",
   "execution_count": null,
   "metadata": {},
   "outputs": [],
   "source": [
    "Dinero + Dinero2"
   ]
  },
  {
   "cell_type": "code",
   "execution_count": null,
   "metadata": {},
   "outputs": [],
   "source": [
    "Nombre = \"Juanes\""
   ]
  },
  {
   "cell_type": "code",
   "execution_count": null,
   "metadata": {},
   "outputs": [],
   "source": [
    "Nombre"
   ]
  },
  {
   "cell_type": "code",
   "execution_count": 2,
   "metadata": {},
   "outputs": [
    {
     "data": {
      "text/plain": [
       "30"
      ]
     },
     "execution_count": 2,
     "metadata": {},
     "output_type": "execute_result"
    }
   ],
   "source": [
    "50 - 20"
   ]
  },
  {
   "cell_type": "code",
   "execution_count": 4,
   "metadata": {},
   "outputs": [
    {
     "data": {
      "text/plain": [
       "100"
      ]
     },
     "execution_count": 4,
     "metadata": {},
     "output_type": "execute_result"
    }
   ],
   "source": [
    "50 * 2"
   ]
  },
  {
   "cell_type": "code",
   "execution_count": 6,
   "metadata": {},
   "outputs": [
    {
     "data": {
      "text/plain": [
       "2500"
      ]
     },
     "execution_count": 6,
     "metadata": {},
     "output_type": "execute_result"
    }
   ],
   "source": [
    "50 ** 2"
   ]
  },
  {
   "cell_type": "code",
   "execution_count": 5,
   "metadata": {},
   "outputs": [
    {
     "data": {
      "text/plain": [
       "'JuanJuanJuan'"
      ]
     },
     "execution_count": 5,
     "metadata": {},
     "output_type": "execute_result"
    }
   ],
   "source": [
    "'Juan' * 3"
   ]
  },
  {
   "cell_type": "code",
   "execution_count": 7,
   "metadata": {},
   "outputs": [
    {
     "data": {
      "text/plain": [
       "4"
      ]
     },
     "execution_count": 7,
     "metadata": {},
     "output_type": "execute_result"
    }
   ],
   "source": [
    "len('Juan')"
   ]
  },
  {
   "cell_type": "code",
   "execution_count": 8,
   "metadata": {},
   "outputs": [
    {
     "data": {
      "text/plain": [
       "int"
      ]
     },
     "execution_count": 8,
     "metadata": {},
     "output_type": "execute_result"
    }
   ],
   "source": [
    "type(len('Juan'))"
   ]
  },
  {
   "cell_type": "code",
   "execution_count": 9,
   "metadata": {},
   "outputs": [
    {
     "data": {
      "text/plain": [
       "True"
      ]
     },
     "execution_count": 9,
     "metadata": {},
     "output_type": "execute_result"
    }
   ],
   "source": [
    "len('Juan') > 3"
   ]
  },
  {
   "cell_type": "code",
   "execution_count": 10,
   "metadata": {},
   "outputs": [
    {
     "data": {
      "text/plain": [
       "bool"
      ]
     },
     "execution_count": 10,
     "metadata": {},
     "output_type": "execute_result"
    }
   ],
   "source": [
    "type(len('Juan') > 3)"
   ]
  },
  {
   "cell_type": "code",
   "execution_count": 11,
   "metadata": {},
   "outputs": [
    {
     "data": {
      "text/plain": [
       "False"
      ]
     },
     "execution_count": 11,
     "metadata": {},
     "output_type": "execute_result"
    }
   ],
   "source": [
    "len('Juan') < 3"
   ]
  },
  {
   "cell_type": "code",
   "execution_count": 12,
   "metadata": {},
   "outputs": [
    {
     "data": {
      "text/plain": [
       "False"
      ]
     },
     "execution_count": 12,
     "metadata": {},
     "output_type": "execute_result"
    }
   ],
   "source": [
    "len('Juan') == 3"
   ]
  },
  {
   "cell_type": "code",
   "execution_count": 13,
   "metadata": {},
   "outputs": [
    {
     "data": {
      "text/plain": [
       "True"
      ]
     },
     "execution_count": 13,
     "metadata": {},
     "output_type": "execute_result"
    }
   ],
   "source": [
    "len('Juan') != 3"
   ]
  },
  {
   "cell_type": "code",
   "execution_count": null,
   "metadata": {},
   "outputs": [],
   "source": [
    "list = "
   ]
  },
  {
   "cell_type": "code",
   "execution_count": null,
   "metadata": {},
   "outputs": [],
   "source": []
  },
  {
   "cell_type": "code",
   "execution_count": null,
   "metadata": {},
   "outputs": [],
   "source": [
    "type(Nombre)"
   ]
  },
  {
   "cell_type": "code",
   "execution_count": null,
   "metadata": {},
   "outputs": [],
   "source": [
    "Apellido = \"Mejia\""
   ]
  },
  {
   "cell_type": "code",
   "execution_count": null,
   "metadata": {},
   "outputs": [],
   "source": [
    "Nombre + Apellido"
   ]
  },
  {
   "cell_type": "code",
   "execution_count": null,
   "metadata": {},
   "outputs": [],
   "source": [
    "Dinero*2"
   ]
  },
  {
   "cell_type": "code",
   "execution_count": null,
   "metadata": {},
   "outputs": [],
   "source": [
    "Nombre*6"
   ]
  },
  {
   "cell_type": "code",
   "execution_count": null,
   "metadata": {},
   "outputs": [],
   "source": [
    "Depurar_alarma = True"
   ]
  },
  {
   "cell_type": "code",
   "execution_count": null,
   "metadata": {},
   "outputs": [],
   "source": [
    "Depurar_alarma"
   ]
  },
  {
   "cell_type": "code",
   "execution_count": null,
   "metadata": {},
   "outputs": [],
   "source": [
    "type(Depurar_alarma)"
   ]
  },
  {
   "cell_type": "code",
   "execution_count": null,
   "metadata": {},
   "outputs": [],
   "source": [
    "Depurar_alarma2 = False"
   ]
  },
  {
   "cell_type": "code",
   "execution_count": null,
   "metadata": {},
   "outputs": [],
   "source": [
    "Depurar_alarma"
   ]
  },
  {
   "cell_type": "code",
   "execution_count": null,
   "metadata": {},
   "outputs": [],
   "source": [
    "Depurar_alarma + Depurar_alarma2"
   ]
  },
  {
   "cell_type": "code",
   "execution_count": null,
   "metadata": {},
   "outputs": [],
   "source": [
    "Ejmp = 'Hola!!!!*'"
   ]
  },
  {
   "cell_type": "code",
   "execution_count": null,
   "metadata": {},
   "outputs": [],
   "source": [
    "Ejmp "
   ]
  },
  {
   "cell_type": "code",
   "execution_count": null,
   "metadata": {},
   "outputs": [],
   "source": [
    "Nombre + \"_\" + Apellido"
   ]
  },
  {
   "cell_type": "code",
   "execution_count": null,
   "metadata": {},
   "outputs": [],
   "source": [
    "52000/120"
   ]
  },
  {
   "cell_type": "code",
   "execution_count": 1,
   "metadata": {
    "colab": {
     "base_uri": "https://localhost:8080/",
     "height": 34
    },
    "colab_type": "code",
    "id": "Ejj7jqb9PBMk",
    "outputId": "a0498f1d-e330-4486-bf2d-4bec4776a773"
   },
   "outputs": [
    {
     "name": "stdout",
     "output_type": "stream",
     "text": [
      "3\n"
     ]
    }
   ],
   "source": [
    "# Asignamos el valor 3 a una variable que creamos, de nombre x\n",
    "x = 3\n",
    "\n",
    "# Evaluamos e imprimimos en pantalla el resultado\n",
    "print(x)"
   ]
  },
  {
   "cell_type": "code",
   "execution_count": null,
   "metadata": {
    "colab": {
     "base_uri": "https://localhost:8080/",
     "height": 34
    },
    "colab_type": "code",
    "id": "G0_JnDgrPBMu",
    "outputId": "c1a022fc-61b1-45b6-e463-e50c577c6119"
   },
   "outputs": [],
   "source": [
    "# Asignamos el valor 15.7 a una nueva variable, de nombre y\n",
    "y = 15.7\n",
    "\n",
    "print(y)"
   ]
  },
  {
   "cell_type": "code",
   "execution_count": null,
   "metadata": {
    "colab": {
     "base_uri": "https://localhost:8080/",
     "height": 34
    },
    "colab_type": "code",
    "id": "1sVjKnS8PBM0",
    "outputId": "eb191433-e7dd-44d1-f7ee-98a8edb51f76"
   },
   "outputs": [],
   "source": [
    "# Podemos definir una nueva variable como la suma de dos anteriores\n",
    "z = x + y\n",
    "\n",
    "print(z)"
   ]
  },
  {
   "cell_type": "markdown",
   "metadata": {
    "colab_type": "text",
    "id": "rRLxeWdMJvcP"
   },
   "source": [
    "Pero en las variables no necesariamente ponemos números, también podemos poner texto (*strings*)"
   ]
  },
  {
   "cell_type": "code",
   "execution_count": null,
   "metadata": {
    "colab": {
     "base_uri": "https://localhost:8080/",
     "height": 34
    },
    "colab_type": "code",
    "id": "n-OyQw00PBM6",
    "outputId": "bdedd6fa-ecfc-4de2-af05-cb55ad993fc6"
   },
   "outputs": [],
   "source": [
    "# Se peude tambier asignar un valor de texto otra variable\n",
    "un_texto = 'HOLA!'\n",
    "\n",
    "print(un_texto)"
   ]
  },
  {
   "cell_type": "markdown",
   "metadata": {
    "colab_type": "text",
    "id": "Y0t7En_OJvcb"
   },
   "source": [
    "**Probar:** ejecutar la siguiente celda. ¿Cuál es la diferencia?"
   ]
  },
  {
   "cell_type": "code",
   "execution_count": null,
   "metadata": {
    "colab": {
     "base_uri": "https://localhost:8080/",
     "height": 52
    },
    "colab_type": "code",
    "id": "RlzXb8nYJvcd",
    "outputId": "1a6ec638-f8e5-454d-f300-2acb69fc4700"
   },
   "outputs": [],
   "source": [
    "print(un_texto)\n",
    "print('un_texto')"
   ]
  },
  {
   "cell_type": "markdown",
   "metadata": {
    "colab_type": "text",
    "id": "ScGT3xT4Jvcl"
   },
   "source": [
    "Si queremos, podemos borrar alguna variable que ya no utilizaremos más"
   ]
  },
  {
   "cell_type": "code",
   "execution_count": null,
   "metadata": {
    "colab": {
     "base_uri": "https://localhost:8080/",
     "height": 184
    },
    "colab_type": "code",
    "id": "Dj_DJGDOPBNB",
    "outputId": "7a912ea6-0e54-4243-f4d8-acd55c10ceea"
   },
   "outputs": [],
   "source": [
    "del(un_texto)\n",
    "print(un_texto)"
   ]
  },
  {
   "cell_type": "code",
   "execution_count": null,
   "metadata": {
    "colab": {
     "base_uri": "https://localhost:8080/",
     "height": 34
    },
    "colab_type": "code",
    "id": "5MQYEBApPBNK",
    "outputId": "e3d11214-73bc-48f0-ba6f-4c5623d5b4bd"
   },
   "outputs": [],
   "source": [
    "a = 42.5\n",
    "print(type(a))"
   ]
  },
  {
   "cell_type": "code",
   "execution_count": null,
   "metadata": {},
   "outputs": [],
   "source": [
    "a.is_integer()"
   ]
  },
  {
   "cell_type": "code",
   "execution_count": null,
   "metadata": {
    "colab": {
     "base_uri": "https://localhost:8080/",
     "height": 34
    },
    "colab_type": "code",
    "id": "E0g87gVfPBNP",
    "outputId": "74d5353d-58c3-4af3-b044-a336fe7647a4"
   },
   "outputs": [],
   "source": [
    "b = 7.8\n",
    "print(type(b))"
   ]
  },
  {
   "cell_type": "code",
   "execution_count": null,
   "metadata": {},
   "outputs": [],
   "source": [
    "b.is_integer()"
   ]
  },
  {
   "cell_type": "code",
   "execution_count": null,
   "metadata": {
    "colab": {
     "base_uri": "https://localhost:8080/",
     "height": 34
    },
    "colab_type": "code",
    "id": "6SFdLEFIPBNW",
    "outputId": "c16286e7-b4b3-47e6-c1b8-6b22ba9da4f4"
   },
   "outputs": [],
   "source": [
    "c = True\n",
    "print(type(c))"
   ]
  },
  {
   "cell_type": "code",
   "execution_count": null,
   "metadata": {
    "colab": {
     "base_uri": "https://localhost:8080/",
     "height": 52
    },
    "colab_type": "code",
    "id": "i_cCG-iYPBNb",
    "outputId": "ae2ae328-b44d-45b8-a299-c916aacefa3f"
   },
   "outputs": [],
   "source": [
    "t1 = 'hola'\n",
    "print(type(\"hola\"))\n",
    "\n",
    "t2 = '523'\n",
    "print(type('t2'))"
   ]
  },
  {
   "cell_type": "code",
   "execution_count": null,
   "metadata": {
    "colab": {
     "base_uri": "https://localhost:8080/",
     "height": 34
    },
    "colab_type": "code",
    "id": "erSdYVqhPBNj",
    "outputId": "a4510c23-9ffe-4562-d2f4-43b03fb1d471"
   },
   "outputs": [],
   "source": [
    "# Este es un tipo especial de variable, que se utiliza para simbolizar algo 'vacio'\n",
    "d = None\n",
    "print(type(d))"
   ]
  },
  {
   "cell_type": "code",
   "execution_count": null,
   "metadata": {
    "colab": {
     "base_uri": "https://localhost:8080/",
     "height": 69
    },
    "colab_type": "code",
    "id": "AvUDAvtpPBNp",
    "outputId": "1fd2d1f9-e56e-4273-d0cd-863681aa535f"
   },
   "outputs": [],
   "source": [
    "numero = 45\n",
    "print(type(numero))\n",
    "\n",
    "# Quiero que sea un 'float' y no un int\n",
    "numero = float(45)\n",
    "print(type(numero))\n",
    "\n",
    "# Quiero que sea un 'string' y no un int\n",
    "numero = str(45)\n",
    "print(type(numero))"
   ]
  },
  {
   "cell_type": "code",
   "execution_count": null,
   "metadata": {
    "colab": {
     "base_uri": "https://localhost:8080/",
     "height": 52
    },
    "colab_type": "code",
    "id": "r6B6f_oOPBNv",
    "outputId": "58e9f91a-8069-4443-d284-0e98e6cb1aa4"
   },
   "outputs": [],
   "source": [
    "otro_numero = 45.0\n",
    "print(type(otro_numero))\n",
    "\n",
    "# Quiero que sea un 'int' y no un 'float'\n",
    "otro_numero = int(45.0)\n",
    "print(type(otro_numero))"
   ]
  },
  {
   "cell_type": "markdown",
   "metadata": {},
   "source": [
    "### La función print()"
   ]
  },
  {
   "cell_type": "markdown",
   "metadata": {},
   "source": [
    "La función de print() muestra la cadena de valor dentro de los paréntesis en la pantalla.\n",
    "\n"
   ]
  },
  {
   "cell_type": "code",
   "execution_count": null,
   "metadata": {},
   "outputs": [],
   "source": [
    "Nombre"
   ]
  },
  {
   "cell_type": "code",
   "execution_count": null,
   "metadata": {},
   "outputs": [],
   "source": [
    "print(Nombre)"
   ]
  },
  {
   "cell_type": "code",
   "execution_count": null,
   "metadata": {},
   "outputs": [],
   "source": [
    "print('¡Hola Mundo!')\n",
    "print('¿Cual es tu nombre?')\n",
    "print ('Mi edad es '+str(19))\n",
    "print ('El proximo año tendré '+str(19+1))"
   ]
  },
  {
   "cell_type": "code",
   "execution_count": null,
   "metadata": {},
   "outputs": [],
   "source": [
    "print('¡Hola Mundo!')\n",
    "print('¿Cual es tu nombre?')"
   ]
  },
  {
   "cell_type": "code",
   "execution_count": null,
   "metadata": {},
   "outputs": [],
   "source": [
    "print ('Mi edad es '+ str(19))\n"
   ]
  },
  {
   "cell_type": "code",
   "execution_count": null,
   "metadata": {},
   "outputs": [],
   "source": [
    "Nombre = 'Juan Esteban MEJIA'"
   ]
  },
  {
   "cell_type": "code",
   "execution_count": null,
   "metadata": {},
   "outputs": [],
   "source": [
    "Nombre"
   ]
  },
  {
   "cell_type": "code",
   "execution_count": null,
   "metadata": {},
   "outputs": [],
   "source": [
    "Nombre.lower()"
   ]
  },
  {
   "cell_type": "code",
   "execution_count": null,
   "metadata": {},
   "outputs": [],
   "source": [
    "print('Penny..'*5)\n"
   ]
  },
  {
   "cell_type": "code",
   "execution_count": null,
   "metadata": {},
   "outputs": [],
   "source": [
    "Nombre='James'\n",
    "Apellido='Bond'\n",
    "print('Mi nombre es '+Apellido+', '+Nombre+' '+Apellido+'.')"
   ]
  },
  {
   "cell_type": "code",
   "execution_count": null,
   "metadata": {},
   "outputs": [],
   "source": [
    "print('Mi nombre es %s, %s %s.' % (Apellido, Nombre, Apellido))\n"
   ]
  },
  {
   "cell_type": "code",
   "execution_count": null,
   "metadata": {},
   "outputs": [],
   "source": [
    "Edad = 40"
   ]
  },
  {
   "cell_type": "code",
   "execution_count": null,
   "metadata": {},
   "outputs": [],
   "source": [
    "'Mi hombre es {0} {1} y mi edad {2}'.format(Nombre ,Apellido, Edad  )"
   ]
  },
  {
   "cell_type": "markdown",
   "metadata": {},
   "source": [
    "### La funciones 'str()', int (), y float() y los objetos de Python\n"
   ]
  },
  {
   "cell_type": "markdown",
   "metadata": {},
   "source": [
    "Computers manipular los valores de datos que representan la información y estos valores pueden ser de diferentes tipos. De hecho, cada valor en un programa de Python es de un tipo específico. El tipo de datos de un valor determina cómo se representan los datos en el ordenador y qué operaciones se pueden realizar en esos datos. Un tipo de datos proporcionado por el lenguaje itselfis llama un tipo de datos primitivo.\n",
    "\n",
    "Si desea concatenar un número entero tal como 29 con una cadena para pasar a imprimir (), que necesita para obtener el valor '29', que es la forma de cadena 29. La función str () se puede pasar un número entero valor y evaluará a una versión valor de cadena de la misma, como sigue:"
   ]
  },
  {
   "cell_type": "code",
   "execution_count": null,
   "metadata": {},
   "outputs": [],
   "source": [
    "Agente=13\n",
    "print(Agente)\n",
    "print('Soy el agente '+str(Agente))"
   ]
  },
  {
   "cell_type": "code",
   "execution_count": null,
   "metadata": {},
   "outputs": [],
   "source": [
    "print('Mi nombre es %s, %s %s.El Agente %d' % (Apellido, Nombre, Apellido, Agente))\n"
   ]
  },
  {
   "cell_type": "code",
   "execution_count": null,
   "metadata": {},
   "outputs": [],
   "source": [
    "type(Agente)"
   ]
  },
  {
   "cell_type": "code",
   "execution_count": null,
   "metadata": {},
   "outputs": [],
   "source": [
    "type('Mi nombre es Bond')"
   ]
  },
  {
   "cell_type": "markdown",
   "metadata": {},
   "source": [
    "### La función input()"
   ]
  },
  {
   "cell_type": "markdown",
   "metadata": {},
   "source": [
    "La función de input() espera a que el usuario escriba un texto en el teclado y presione en ENTER.\n",
    "\n"
   ]
  },
  {
   "cell_type": "code",
   "execution_count": null,
   "metadata": {},
   "outputs": [],
   "source": [
    "input('Por fa dijame su edad')"
   ]
  },
  {
   "cell_type": "code",
   "execution_count": null,
   "metadata": {},
   "outputs": [],
   "source": [
    "Edad = input('Por fa dijame su edad')"
   ]
  },
  {
   "cell_type": "code",
   "execution_count": null,
   "metadata": {},
   "outputs": [],
   "source": [
    "Edad"
   ]
  },
  {
   "cell_type": "code",
   "execution_count": null,
   "metadata": {},
   "outputs": [],
   "source": [
    "type(Edad)"
   ]
  },
  {
   "cell_type": "code",
   "execution_count": null,
   "metadata": {},
   "outputs": [],
   "source": [
    "input('¿Cúal es el precio del dólar actual?')\n"
   ]
  },
  {
   "cell_type": "markdown",
   "metadata": {
    "colab_type": "text",
    "id": "Zip2yREWPBN0"
   },
   "source": [
    "### 1.3 Operaciones\n",
    "\n"
   ]
  },
  {
   "cell_type": "code",
   "execution_count": null,
   "metadata": {
    "colab": {
     "base_uri": "https://localhost:8080/",
     "height": 52
    },
    "colab_type": "code",
    "id": "QbeN4rjGPBN2",
    "outputId": "1d291fdc-506d-46a2-82df-ca8ff8468dc6"
   },
   "outputs": [],
   "source": [
    "a = 20\n",
    "b = 4\n",
    "print(a+b)\n",
    "print(a-b)"
   ]
  },
  {
   "cell_type": "markdown",
   "metadata": {
    "colab_type": "text",
    "id": "t4JcimwwJvd2"
   },
   "source": [
    "Se pueden realizar las operaciones incluso entre distintos tipos de variables"
   ]
  },
  {
   "cell_type": "code",
   "execution_count": null,
   "metadata": {
    "colab": {
     "base_uri": "https://localhost:8080/",
     "height": 52
    },
    "colab_type": "code",
    "id": "x7NDD_tJPBN6",
    "outputId": "64bef458-3391-4437-a24f-712892ebf068"
   },
   "outputs": [],
   "source": [
    "a = 20\n",
    "b = 4.5\n",
    "\n",
    "c = a+b\n",
    "d = a-b\n",
    "\n",
    "print(c)\n",
    "print(d)"
   ]
  },
  {
   "cell_type": "markdown",
   "metadata": {
    "colab_type": "text",
    "id": "oNsWzLiBJvd-"
   },
   "source": [
    "¿De qué tipo es la variable resultante? Trata de adivinarlo antes de correr la celda siguiente."
   ]
  },
  {
   "cell_type": "code",
   "execution_count": null,
   "metadata": {
    "colab": {
     "base_uri": "https://localhost:8080/",
     "height": 52
    },
    "colab_type": "code",
    "id": "yZLqW2ZYPBN_",
    "outputId": "9bd53fae-f9ca-46be-87c6-e5ff0152559e"
   },
   "outputs": [],
   "source": [
    "print(type(c))\n",
    "print(type(d))"
   ]
  },
  {
   "cell_type": "markdown",
   "metadata": {
    "colab_type": "text",
    "id": "bLtMd2Z_JveF"
   },
   "source": [
    "También podemos dividir números."
   ]
  },
  {
   "cell_type": "code",
   "execution_count": null,
   "metadata": {
    "colab": {
     "base_uri": "https://localhost:8080/",
     "height": 34
    },
    "colab_type": "code",
    "id": "z9kq2lEVPBOF",
    "outputId": "33c66381-b0a7-4c2c-94a5-b863f097b03b"
   },
   "outputs": [],
   "source": [
    "x = 10\n",
    "y = 3\n",
    "z = x/y\n",
    "print(z)"
   ]
  },
  {
   "cell_type": "markdown",
   "metadata": {},
   "source": [
    "### Python como calculadora"
   ]
  },
  {
   "cell_type": "markdown",
   "metadata": {},
   "source": [
    "¿ Si tengo 2 MM de pesos por cuantos dólares los puedo cangear?\n",
    "\n",
    "Recuerde: [input('¿Cúal es el precio del dólar actual?')]. Ahora, lo que nesesitamos es entrar un número que sea e tipo de cambio. Comvertiremos el string en tipo númerico para despues hacer la conversion a dolares."
   ]
  },
  {
   "cell_type": "code",
   "execution_count": null,
   "metadata": {},
   "outputs": [],
   "source": [
    "TipoCambio = float(input('¿Cúal es el tipo de cambio del dólar-peso actual? '))\n"
   ]
  },
  {
   "cell_type": "code",
   "execution_count": null,
   "metadata": {},
   "outputs": [],
   "source": [
    "Pesos = float(input('¿Cuantos pesos va a cambiar?'))\n"
   ]
  },
  {
   "cell_type": "code",
   "execution_count": null,
   "metadata": {},
   "outputs": [],
   "source": [
    "Dolares = Pesos/TipoCambio\n",
    "Dolares"
   ]
  },
  {
   "cell_type": "markdown",
   "metadata": {},
   "source": [
    "Más adelante veremos cmo hacer wed Scraping que nos permitira jararnos datos de web para asi obtener e tipo de cmabio actual y poder hacer una pequeña aplicacion de conversión de monedas."
   ]
  },
  {
   "cell_type": "code",
   "execution_count": null,
   "metadata": {},
   "outputs": [],
   "source": [
    "round(Dolares, 3)\n"
   ]
  },
  {
   "cell_type": "markdown",
   "metadata": {},
   "source": [
    "Pasemos a calcular el resultado de una inversión P a una tipo de interés r(no espresada como fracion, esto para practicar los operadores arirtmeticos) en un tiempo n (la composición es en este periodo"
   ]
  },
  {
   "cell_type": "code",
   "execution_count": null,
   "metadata": {},
   "outputs": [],
   "source": [
    "p=50\n",
    "r=13\n",
    "n=3\n",
    "p*(1 + r/100)**n"
   ]
  },
  {
   "cell_type": "code",
   "execution_count": 38,
   "metadata": {},
   "outputs": [],
   "source": [
    "mi_dict =  {'carro':25 , 'carro3':15  }"
   ]
  },
  {
   "cell_type": "code",
   "execution_count": 40,
   "metadata": {},
   "outputs": [
    {
     "data": {
      "text/plain": [
       "25"
      ]
     },
     "execution_count": 40,
     "metadata": {},
     "output_type": "execute_result"
    }
   ],
   "source": [
    "mi_dict.get('carro')"
   ]
  },
  {
   "cell_type": "markdown",
   "metadata": {},
   "source": [
    "## *Ejercicio Individual* \n",
    "\n",
    "Cree un programa (scrip) que calcule el área de un círculo. Los elementos para el calculo del área los debe dar el usuario ( Es decir usar la función input())\n",
    "\n",
    "hints:\n",
    "\n",
    "- Area del Circulo = $\\pi$ * $R^2$ \n",
    "- $\\pi$ =  3.141592653589793"
   ]
  },
  {
   "cell_type": "code",
   "execution_count": 34,
   "metadata": {},
   "outputs": [
    {
     "name": "stdin",
     "output_type": "stream",
     "text": [
      " 23\n"
     ]
    },
    {
     "data": {
      "text/plain": [
       "'23'"
      ]
     },
     "execution_count": 34,
     "metadata": {},
     "output_type": "execute_result"
    }
   ],
   "source": [
    "input()"
   ]
  },
  {
   "cell_type": "code",
   "execution_count": 35,
   "metadata": {},
   "outputs": [
    {
     "name": "stdin",
     "output_type": "stream",
     "text": [
      " 65\n"
     ]
    }
   ],
   "source": [
    "numero = input()"
   ]
  },
  {
   "cell_type": "code",
   "execution_count": 37,
   "metadata": {},
   "outputs": [
    {
     "data": {
      "text/plain": [
       "str"
      ]
     },
     "execution_count": 37,
     "metadata": {},
     "output_type": "execute_result"
    }
   ],
   "source": [
    "type(numero)\n"
   ]
  },
  {
   "cell_type": "code",
   "execution_count": 41,
   "metadata": {},
   "outputs": [],
   "source": [
    "mi_lista =  [ 21, 56]"
   ]
  },
  {
   "cell_type": "code",
   "execution_count": 42,
   "metadata": {},
   "outputs": [
    {
     "data": {
      "text/plain": [
       "[21, 56]"
      ]
     },
     "execution_count": 42,
     "metadata": {},
     "output_type": "execute_result"
    }
   ],
   "source": [
    "mi_lista"
   ]
  },
  {
   "cell_type": "code",
   "execution_count": 43,
   "metadata": {},
   "outputs": [],
   "source": [
    "mi_lista[0] = 65"
   ]
  },
  {
   "cell_type": "code",
   "execution_count": 44,
   "metadata": {},
   "outputs": [
    {
     "data": {
      "text/plain": [
       "[65, 56]"
      ]
     },
     "execution_count": 44,
     "metadata": {},
     "output_type": "execute_result"
    }
   ],
   "source": [
    "mi_lista"
   ]
  },
  {
   "cell_type": "code",
   "execution_count": null,
   "metadata": {},
   "outputs": [],
   "source": [
    "Area del Circulo =  𝜋  *  𝑅2 \n"
   ]
  },
  {
   "cell_type": "code",
   "execution_count": 45,
   "metadata": {},
   "outputs": [],
   "source": [
    "𝜋  = 3.141592653589793"
   ]
  },
  {
   "cell_type": "code",
   "execution_count": 53,
   "metadata": {},
   "outputs": [
    {
     "name": "stdin",
     "output_type": "stream",
     "text": [
      " 35 cm\n"
     ]
    },
    {
     "ename": "ValueError",
     "evalue": "could not convert string to float: '35 cm'",
     "output_type": "error",
     "traceback": [
      "\u001b[1;31m---------------------------------------------------------------------------\u001b[0m",
      "\u001b[1;31mValueError\u001b[0m                                Traceback (most recent call last)",
      "Input \u001b[1;32mIn [53]\u001b[0m, in \u001b[0;36m<cell line: 1>\u001b[1;34m()\u001b[0m\n\u001b[1;32m----> 1\u001b[0m r \u001b[38;5;241m=\u001b[39m \u001b[38;5;28;43mfloat\u001b[39;49m\u001b[43m(\u001b[49m\u001b[38;5;28;43minput\u001b[39;49m\u001b[43m(\u001b[49m\u001b[43m)\u001b[49m\u001b[43m)\u001b[49m\n",
      "\u001b[1;31mValueError\u001b[0m: could not convert string to float: '35 cm'"
     ]
    }
   ],
   "source": [
    "r = float(input())"
   ]
  },
  {
   "cell_type": "code",
   "execution_count": 50,
   "metadata": {},
   "outputs": [
    {
     "data": {
      "text/plain": [
       "float"
      ]
     },
     "execution_count": 50,
     "metadata": {},
     "output_type": "execute_result"
    }
   ],
   "source": [
    "type(r)"
   ]
  },
  {
   "cell_type": "code",
   "execution_count": 52,
   "metadata": {},
   "outputs": [
    {
     "data": {
      "text/plain": [
       "3848.4510006474966"
      ]
     },
     "execution_count": 52,
     "metadata": {},
     "output_type": "execute_result"
    }
   ],
   "source": [
    "area = 𝜋 * (r ** 2)\n",
    "area"
   ]
  },
  {
   "cell_type": "code",
   "execution_count": null,
   "metadata": {},
   "outputs": [],
   "source": []
  },
  {
   "cell_type": "code",
   "execution_count": null,
   "metadata": {},
   "outputs": [],
   "source": []
  },
  {
   "cell_type": "code",
   "execution_count": null,
   "metadata": {},
   "outputs": [],
   "source": []
  },
  {
   "cell_type": "markdown",
   "metadata": {
    "colab_type": "text",
    "id": "Rdo5rRsdPBO7"
   },
   "source": [
    "## 2. Listas y Loops\n",
    "\n",
    "Ya vimos los tipos de datos básicos de Python. Es hora de empezar a combinarlos.\n",
    "\n",
    "### 2.1 Listas\n",
    "\n",
    "Las listas un objeto central en el lenguaje Python. Están compuestas por una sucesión de objetos en un orden determinado. Se definen mediante corchetes `[]`, y los objetos dentro de ellas se separan por comas `,`. Veamos un ejemplo:"
   ]
  },
  {
   "cell_type": "code",
   "execution_count": 14,
   "metadata": {},
   "outputs": [],
   "source": [
    "lista = [\"Huevos\" , \"Pollo\" , \"Cereal\" ]"
   ]
  },
  {
   "cell_type": "code",
   "execution_count": 15,
   "metadata": {},
   "outputs": [
    {
     "data": {
      "text/plain": [
       "['Huevos', 'Pollo', 'Cereal']"
      ]
     },
     "execution_count": 15,
     "metadata": {},
     "output_type": "execute_result"
    }
   ],
   "source": [
    "lista"
   ]
  },
  {
   "cell_type": "code",
   "execution_count": 16,
   "metadata": {},
   "outputs": [
    {
     "data": {
      "text/plain": [
       "list"
      ]
     },
     "execution_count": 16,
     "metadata": {},
     "output_type": "execute_result"
    }
   ],
   "source": [
    "type(lista)"
   ]
  },
  {
   "cell_type": "code",
   "execution_count": 17,
   "metadata": {},
   "outputs": [],
   "source": [
    "lista2 = [\"Huevos\" , 50 , \"Cereal\" , True]"
   ]
  },
  {
   "cell_type": "code",
   "execution_count": 18,
   "metadata": {},
   "outputs": [
    {
     "data": {
      "text/plain": [
       "['Huevos', 50, 'Cereal', True]"
      ]
     },
     "execution_count": 18,
     "metadata": {},
     "output_type": "execute_result"
    }
   ],
   "source": [
    "lista2\n"
   ]
  },
  {
   "cell_type": "code",
   "execution_count": 20,
   "metadata": {},
   "outputs": [
    {
     "data": {
      "text/plain": [
       "'Cereal'"
      ]
     },
     "execution_count": 20,
     "metadata": {},
     "output_type": "execute_result"
    }
   ],
   "source": [
    "lista2[2]"
   ]
  },
  {
   "cell_type": "code",
   "execution_count": 21,
   "metadata": {},
   "outputs": [
    {
     "data": {
      "text/plain": [
       "['Huevos', 50]"
      ]
     },
     "execution_count": 21,
     "metadata": {},
     "output_type": "execute_result"
    }
   ],
   "source": [
    "lista2[0:2]"
   ]
  },
  {
   "cell_type": "code",
   "execution_count": 22,
   "metadata": {},
   "outputs": [
    {
     "data": {
      "text/plain": [
       "True"
      ]
     },
     "execution_count": 22,
     "metadata": {},
     "output_type": "execute_result"
    }
   ],
   "source": [
    "lista2[-1]"
   ]
  },
  {
   "cell_type": "code",
   "execution_count": 23,
   "metadata": {},
   "outputs": [],
   "source": [
    "lista2.append(30)"
   ]
  },
  {
   "cell_type": "code",
   "execution_count": 24,
   "metadata": {},
   "outputs": [
    {
     "data": {
      "text/plain": [
       "['Huevos', 50, 'Cereal', True, 30]"
      ]
     },
     "execution_count": 24,
     "metadata": {},
     "output_type": "execute_result"
    }
   ],
   "source": [
    "lista2"
   ]
  },
  {
   "cell_type": "code",
   "execution_count": 25,
   "metadata": {},
   "outputs": [
    {
     "data": {
      "text/plain": [
       "'Juan Esteban'"
      ]
     },
     "execution_count": 25,
     "metadata": {},
     "output_type": "execute_result"
    }
   ],
   "source": [
    "'Juan Esteban'\n"
   ]
  },
  {
   "cell_type": "code",
   "execution_count": 33,
   "metadata": {},
   "outputs": [
    {
     "data": {
      "text/plain": [
       "'Esteban'"
      ]
     },
     "execution_count": 33,
     "metadata": {},
     "output_type": "execute_result"
    }
   ],
   "source": [
    "'Esteban '.strip()"
   ]
  },
  {
   "cell_type": "code",
   "execution_count": 32,
   "metadata": {},
   "outputs": [
    {
     "data": {
      "text/plain": [
       "['Juan', 'Esteban']"
      ]
     },
     "execution_count": 32,
     "metadata": {},
     "output_type": "execute_result"
    }
   ],
   "source": [
    "'Juan Esteban'.split(' ')"
   ]
  },
  {
   "cell_type": "code",
   "execution_count": null,
   "metadata": {
    "colab": {
     "base_uri": "https://localhost:8080/",
     "height": 34
    },
    "colab_type": "code",
    "id": "vA9XBz5mPBO8",
    "outputId": "6bc127c7-ee86-4d57-fc08-fc210f091240"
   },
   "outputs": [],
   "source": [
    "lista_1 = [42, 10.7, True, 'Texto']\n",
    "print(lista_1)"
   ]
  },
  {
   "cell_type": "markdown",
   "metadata": {},
   "source": [
    "c(42, 10.7, True, 'Texto' )"
   ]
  },
  {
   "cell_type": "markdown",
   "metadata": {
    "colab_type": "text",
    "id": "286PH7uXJves"
   },
   "source": [
    "**Notar** que la lista puede contener varios tipos de datos diferentes sin ningún problema.\n",
    "\n",
    "Una pregunta muy usual que uno hace cuando trabaja con listas es cuántos elementos tiene. Esto lo podemos responder con el comando `len()`"
   ]
  },
  {
   "cell_type": "code",
   "execution_count": null,
   "metadata": {
    "colab": {
     "base_uri": "https://localhost:8080/",
     "height": 34
    },
    "colab_type": "code",
    "id": "D4nWSXKSPBO_",
    "outputId": "2b4b5638-b35d-421b-8af0-79d1bc6137cc"
   },
   "outputs": [],
   "source": [
    "len(lista_1)"
   ]
  },
  {
   "cell_type": "markdown",
   "metadata": {
    "colab_type": "text",
    "id": "b0wCmLL2PBPC"
   },
   "source": [
    "#### Indexado\n",
    "\n",
    "Cada elemento de una lista tiene asignada una posición (*índice*) que podemos usar para inspeccionar ese elemento u operar con él. Los índices **empiezan en 0**, y se especifican poniendo corchetes con el índice dentro luego del nombre de la lista:"
   ]
  },
  {
   "cell_type": "code",
   "execution_count": null,
   "metadata": {
    "colab": {
     "base_uri": "https://localhost:8080/",
     "height": 69
    },
    "colab_type": "code",
    "id": "Jepw64oFPBPC",
    "outputId": "d24196b0-5b50-4873-a7b5-af70a2ff6e65"
   },
   "outputs": [],
   "source": [
    "lista_2 = [5, 6.0,'Un poco de texto',-5, False, 'Más texto', True, 100]\n",
    "\n",
    "print(lista_2[0])\n",
    "print(lista_2[1])\n",
    "print(lista_2[2])"
   ]
  },
  {
   "cell_type": "markdown",
   "metadata": {
    "colab_type": "text",
    "id": "WOz0qLeiJve4"
   },
   "source": [
    "**Ejercicio**: imprimir el séptimo elemento de `lista_2`. Asegurarte que lo hiciste bien contando los elementos de la lista."
   ]
  },
  {
   "cell_type": "code",
   "execution_count": null,
   "metadata": {
    "colab": {
     "base_uri": "https://localhost:8080/",
     "height": 34
    },
    "colab_type": "code",
    "id": "7ow4VjxZJve8",
    "outputId": "e25b0bda-9553-4843-e7e1-0bc5b06f77fc"
   },
   "outputs": [],
   "source": [
    "print(lista_2[6])"
   ]
  },
  {
   "cell_type": "markdown",
   "metadata": {
    "colab_type": "text",
    "id": "qS6wo6wUJvfA"
   },
   "source": [
    "También podemos seleccionar porciones de la lista, no solamente de a un elemento por vez."
   ]
  },
  {
   "cell_type": "code",
   "execution_count": null,
   "metadata": {
    "colab": {
     "base_uri": "https://localhost:8080/",
     "height": 69
    },
    "colab_type": "code",
    "id": "mVfn1mYHPBPK",
    "outputId": "a74da010-1857-4870-8bca-13647bb70480"
   },
   "outputs": [],
   "source": [
    "print(lista_1[0:3])\n",
    "print(lista_2[4:])\n",
    "print(lista_2[1:5:2])"
   ]
  },
  {
   "cell_type": "markdown",
   "metadata": {
    "colab_type": "text",
    "id": "3RrvsnVRJvfF"
   },
   "source": [
    "¿Cuál es la lógica que gobierna esta sintaxis? Juega un poco con ella y fíjate si logras descubrir la regla. Sino, también puedes googlear qué es *slicing*.\n",
    "\n",
    "Algo más sobre indexado. Podemos indexar *desde el final* de la lista usando números negativos."
   ]
  },
  {
   "cell_type": "code",
   "execution_count": null,
   "metadata": {
    "colab": {
     "base_uri": "https://localhost:8080/",
     "height": 69
    },
    "colab_type": "code",
    "id": "zZORvWBvJvfG",
    "outputId": "720ac5a0-3266-4e0a-d819-aec3e969a3d3"
   },
   "outputs": [],
   "source": [
    "print(lista_2[-1])\n",
    "print(lista_2[-2])\n",
    "print(lista_2[-8])"
   ]
  },
  {
   "cell_type": "markdown",
   "metadata": {
    "colab_type": "text",
    "id": "qyaVS4DtJvfJ"
   },
   "source": [
    "Veamos una cosita más. Creemos una tercera lista"
   ]
  },
  {
   "cell_type": "code",
   "execution_count": null,
   "metadata": {
    "colab": {
     "base_uri": "https://localhost:8080/",
     "height": 52
    },
    "colab_type": "code",
    "id": "-nQ_FGfNPBPM",
    "outputId": "aa4b663c-97bf-4b5b-aa32-29047e9d077c"
   },
   "outputs": [],
   "source": [
    "# Definimos una segunda lista\n",
    "lista_3 = [0, lista_1, 'Mas texto', lista_2]\n",
    "print(lista_3)\n",
    "print(len(lista_3))"
   ]
  },
  {
   "cell_type": "markdown",
   "metadata": {
    "colab_type": "text",
    "id": "5YSBWt8tPBPP"
   },
   "source": [
    "Notemos que en esta tercera lista, agregamos dentro la primera y la segunda lista. Ambas listas ahora son elementos de esta tercera lista. Prestar particular atención a cuántos elementos tiene `lista_3`. ¡No importa cuántos elementos tienen `lista_1` o `lista_2`, dentro de `lista_3` solamente cuentan como uno!"
   ]
  },
  {
   "cell_type": "code",
   "execution_count": null,
   "metadata": {
    "colab": {
     "base_uri": "https://localhost:8080/",
     "height": 34
    },
    "colab_type": "code",
    "id": "3WYr5rJQPBPQ",
    "outputId": "a48611c2-418e-4c6c-fb5b-11919217e293"
   },
   "outputs": [],
   "source": [
    "print(lista_3[1])"
   ]
  },
  {
   "cell_type": "markdown",
   "metadata": {
    "colab_type": "text",
    "id": "RsTtGltdJvfT"
   },
   "source": [
    "**Ejercicio:** tomando `lista_1` desde `lista_3` (lo que acabamos de hacer en la celda anterior), indexar el tercer elemento de `lista_1`. Debería darte como resultado `True`."
   ]
  },
  {
   "cell_type": "code",
   "execution_count": null,
   "metadata": {
    "colab": {
     "base_uri": "https://localhost:8080/",
     "height": 34
    },
    "colab_type": "code",
    "id": "on1ihAbHJvfU",
    "outputId": "3e4fbae2-a55e-4bd2-ab9d-342dca8c6e29"
   },
   "outputs": [],
   "source": [
    "print(lista_3[1][2])"
   ]
  },
  {
   "cell_type": "markdown",
   "metadata": {
    "colab_type": "text",
    "id": "ZbA1JYFxPBPR"
   },
   "source": [
    "**Lista Vacía y `append()`**\n",
    "\n",
    "Podemos crear listas vacias e ir agregándole elementos con el método `append()`"
   ]
  },
  {
   "cell_type": "code",
   "execution_count": null,
   "metadata": {
    "colab": {
     "base_uri": "https://localhost:8080/",
     "height": 34
    },
    "colab_type": "code",
    "id": "7VWvo-GwPBPT",
    "outputId": "2d00889f-1d6f-4ac6-9290-b6fa60c66321"
   },
   "outputs": [],
   "source": [
    "lista_vacia = []\n",
    "len(lista_vacia)"
   ]
  },
  {
   "cell_type": "code",
   "execution_count": null,
   "metadata": {
    "colab": {
     "base_uri": "https://localhost:8080/",
     "height": 52
    },
    "colab_type": "code",
    "id": "pmlQp8PEPBPV",
    "outputId": "9bf53b0a-5ca5-451c-a15b-acbc69a8eafe"
   },
   "outputs": [],
   "source": [
    "lista_vacia.append(42)\n",
    "lista_vacia.append('un segundo item')\n",
    "print(lista_vacia)\n",
    "print(len(lista_vacia))"
   ]
  },
  {
   "cell_type": "markdown",
   "metadata": {
    "colab_type": "text",
    "id": "sU-6LA63PBPX"
   },
   "source": [
    "Prueba qué pasa si corren nuevamente la celda anterior (justo arriba de ésta). Notar que el método `append()` no solamente trabaja en listas vacías.\n",
    "\n",
    "**Ejercicio**: Define una lista vacia llamada `lista_nueva` y agréguele (`append()`) los elementos `a`, `b` y `c`."
   ]
  },
  {
   "cell_type": "code",
   "execution_count": null,
   "metadata": {
    "colab": {
     "base_uri": "https://localhost:8080/",
     "height": 34
    },
    "colab_type": "code",
    "id": "jXs-Rkh6VF8K",
    "outputId": "23a0d61c-3d70-4a7e-ba69-e4236dc69737"
   },
   "outputs": [],
   "source": [
    "a = 8\n",
    "b = 'world'\n",
    "c = [12,24.5,66]\n",
    "\n",
    "lista_nueva = []\n",
    "lista_nueva.append(a)\n",
    "lista_nueva.append(b)\n",
    "lista_nueva.append(c)\n",
    "lista_nueva.append('estoE#sNeuvo')\n",
    "\n",
    "print(lista_nueva)"
   ]
  },
  {
   "cell_type": "markdown",
   "metadata": {
    "colab_type": "text",
    "id": "fOCxehC_Jvfm"
   },
   "source": [
    "**CUIDADO:** a veces queremos copiar una lista, operar sobre ella y comparar los resultados con la lista original. Sin embargo, hay que tener cuidado cuando queremos copiar listas"
   ]
  },
  {
   "cell_type": "code",
   "execution_count": null,
   "metadata": {
    "colab": {
     "base_uri": "https://localhost:8080/",
     "height": 34
    },
    "colab_type": "code",
    "id": "t9WclLNMJvfn",
    "outputId": "0abd2285-ad81-4c1e-a7f4-e37ed405fde5"
   },
   "outputs": [],
   "source": [
    "lista_1 = [1,2,3,4]\n",
    "lista_2 = lista_1  # lista_2 ahora es igual a lista_1\n",
    "lista_2[-1] = 100 # el ultimo elemento de la lista_2 ahora es 100\n",
    "print(lista_1, lista_2)"
   ]
  },
  {
   "cell_type": "markdown",
   "metadata": {
    "colab_type": "text",
    "id": "SDNdtX3uJvfr"
   },
   "source": [
    "¡Notar que se modificaron ambas listas! Esto, en general, no es lo deseado. Pero podemos hacerlo bien:"
   ]
  },
  {
   "cell_type": "code",
   "execution_count": null,
   "metadata": {
    "colab": {
     "base_uri": "https://localhost:8080/",
     "height": 34
    },
    "colab_type": "code",
    "id": "tGukUgixJvfs",
    "outputId": "9421e1b2-0700-4ff6-a951-f9828dc20fca"
   },
   "outputs": [],
   "source": [
    "lista_1 = [1,2,3,4]\n",
    "lista_2 = lista_1.copy() # Prestar atención aquí\n",
    "lista_2[-1] = 100\n",
    "print(lista_1, lista_2)"
   ]
  },
  {
   "cell_type": "markdown",
   "metadata": {
    "colab_type": "text",
    "id": "1gP68SzLJvfy"
   },
   "source": [
    "¡Ahora no! Es decir, si queremos copiar listas, debemos poner `.copy()`. Esto no solo vale para listas, sino para objetos que veremos en los próximos encuentros, como arreglos de Numpy y dataframes de Pandas."
   ]
  },
  {
   "cell_type": "markdown",
   "metadata": {
    "colab_type": "text",
    "id": "oGW0jo5hPBPZ"
   },
   "source": [
    "### 2.2 Loops\n",
    "\n",
    "En general, cuando estamos programando, queremos repetir una operación varias veces. Por ejemplo, aplicarle una operación a los elementos de una lista. Si la lista tiene muchos elementos, puede ser engorroso escribir la aplicación de esa operacíon a cada elemento uno por uno, por lo que necesitamos alguna estructura de código que facilite esa sintaxis. \n",
    "\n",
    "Los **Loops** (bucles) son estructuras de codigo fundamentales en cualquier lenguaje de programación. Consisten en bloques de código que se repiten una cierta cantidad de veces dada una condición. Existen dos formas básicas de crear loops, las instrucciones tipo `for` y las instrucciones tipo `while`. Te vamos a contar de qué se tratan los `for`, si te interesa pueden googlear cómo funcionan los `while`.\n",
    "\n",
    "El `for` es un loop en el que un bloque de código se repite tantas veces como elementos haya en una determinada lista. En cada iteración (repetición) hay una variable que va tomando el valor de uno de los elementos en esta lista. Veamos un ejemplo:"
   ]
  },
  {
   "cell_type": "code",
   "execution_count": 54,
   "metadata": {
    "colab": {
     "base_uri": "https://localhost:8080/",
     "height": 104
    },
    "colab_type": "code",
    "id": "hZw979QmPBPa",
    "outputId": "4766b5e9-edd8-4c7c-8293-fc4a757a3b53"
   },
   "outputs": [
    {
     "name": "stdout",
     "output_type": "stream",
     "text": [
      "3\n",
      "1.5\n",
      "55\n",
      "27.5\n",
      "1\n",
      "0.5\n",
      "876\n",
      "438.0\n",
      "12\n",
      "6.0\n"
     ]
    }
   ],
   "source": [
    "lista_numeros = [3,55,1,876,12]\n",
    "for numero in lista_numeros:\n",
    "    # Definimos el codigo dentro del for mediante la indentación\n",
    "    # (Todo lo que este corrido un 'tab' a la derecha)\n",
    "    print(numero)\n",
    "    print(numero/2)"
   ]
  },
  {
   "cell_type": "markdown",
   "metadata": {
    "colab_type": "text",
    "id": "yie0RDfK3z0x"
   },
   "source": [
    "Prestar particular atención a que el código que está \"dentro\" del `for` está **indentado**. En algunos lenguajes de programación la indentación se utiliza para ordenar el código, hacerlo más legible. En Python, en cambio, es **obligatorio**. Se logra con cuatro espacios o un tab.\n",
    "\n",
    "Repitamos los mismo que la celda anterior. pero ahora agregamos una variable `i` que cuenta la cantidad de veces que recorrimos el bucle `for` ."
   ]
  },
  {
   "cell_type": "code",
   "execution_count": null,
   "metadata": {
    "colab": {
     "base_uri": "https://localhost:8080/",
     "height": 104
    },
    "colab_type": "code",
    "id": "kpqiAZb-PBPd",
    "outputId": "7ea7653b-f82b-42e0-a50d-61c343c0ff28"
   },
   "outputs": [],
   "source": [
    "lista_numeros = [3,55,1,876,12]\n",
    "i = 0 # La iniciamos en cero\n",
    "\n",
    "for elemento in lista_numeros:    \n",
    "    i = i+1 # Le sumamos 1 cada vez que entra\n",
    "    print(elemento, i)"
   ]
  },
  {
   "cell_type": "markdown",
   "metadata": {
    "colab_type": "text",
    "id": "8C8nZYZT5QME"
   },
   "source": [
    "Tomarte unos minutos para entender qué hace la línea `i = i + 1`."
   ]
  },
  {
   "cell_type": "markdown",
   "metadata": {
    "colab_type": "text",
    "id": "Qbz2a3orPBPl"
   },
   "source": [
    "También podemos recorrer listas de texto. Presten atencion al siguiente codigo, e intenten precedir el resultado antes de correr la celda."
   ]
  },
  {
   "cell_type": "code",
   "execution_count": 55,
   "metadata": {
    "colab": {
     "base_uri": "https://localhost:8080/",
     "height": 34
    },
    "colab_type": "code",
    "id": "z1jQ13uzPBPm",
    "outputId": "dcd5ee03-c72b-4dc0-c603-8f8214c00aff"
   },
   "outputs": [
    {
     "name": "stdout",
     "output_type": "stream",
     "text": [
      "['Mi nombre es Ernesto', 'Mi nombre es Camilo', 'Mi nombre es Violeta']\n"
     ]
    }
   ],
   "source": [
    "lista_nombres = ['Ernesto', 'Camilo', 'Violeta']\n",
    "nueva_lista = []\n",
    "\n",
    "for item in lista_nombres:\n",
    "    oracion = 'Mi nombre es ' + item\n",
    "    nueva_lista.append(oracion)\n",
    "\n",
    "# Este print esta fuera del bucle, no está indentado\n",
    "print(nueva_lista)"
   ]
  },
  {
   "cell_type": "code",
   "execution_count": 59,
   "metadata": {},
   "outputs": [
    {
     "name": "stdout",
     "output_type": "stream",
     "text": [
      "Para Ernesto\n",
      "108.0\n",
      "135.0\n",
      "70\n",
      "66.5\n",
      "No descuento\n",
      "Para Camilo\n",
      "108.0\n",
      "135.0\n",
      "70\n",
      "66.5\n",
      "No descuento\n",
      "Para Violeta\n",
      "108.0\n",
      "135.0\n",
      "70\n",
      "66.5\n",
      "No descuento\n"
     ]
    }
   ],
   "source": [
    "lista_nombres = ['Ernesto', 'Camilo', 'Violeta']\n",
    "lista_precios = [120, 150, 70, 30]\n",
    "\n",
    "\n",
    "for item in lista_nombres:\n",
    "    oracion = 'Para ' + item\n",
    "    print(oracion)\n",
    "    for price in lista_precios:\n",
    "        \n",
    "        if price >= 100:\n",
    "            print(price * 0.9)\n",
    "        elif price >= 50:\n",
    "            print(price)\n",
    "            print(price * 0.95)\n",
    "        else:\n",
    "            print('No descuento')\n"
   ]
  },
  {
   "cell_type": "markdown",
   "metadata": {
    "colab_type": "text",
    "id": "YrQ5I9FZ53sq"
   },
   "source": [
    "Terminamos las explicaciones por el momento. Sabemos que fue bastante y que probablemente estés cansado/a. Recomendamos tomarte un tiempo para descansar y, luego, intentar los siguientes ejercicios. Es MUY importante intentarlo, no importa si sientes que no terminan de resolverlos.\n",
    "\n",
    "## Ejercitación\n",
    "\n",
    "En general, no hay una única forma de resolver los ejercicios que vamos a dejar. Lo que sí ocurre, a veces, es que hay formas más *eficientes* o *prolijas*. No debes preocuparte por eso ahora, lo importante es intentar resolverlos.\n",
    "\n",
    "**Ejercicios 1 y 2 - Challenge:** Si tenemos una lista de números, por ejemplo los primeros diez numeros naturales, e intentamos sumarle un número fijo a la lista, por ejemplo 3, tal vez intentemos algo parecido a lo siguiente: \n",
    "\n"
   ]
  },
  {
   "cell_type": "code",
   "execution_count": null,
   "metadata": {
    "colab": {
     "base_uri": "https://localhost:8080/",
     "height": 184
    },
    "colab_type": "code",
    "id": "DNaZ9yIy7wXr",
    "outputId": "a1303d45-cc53-42f9-8712-cedb9d325a7c"
   },
   "outputs": [],
   "source": [
    "numeros = [0,1,2,3,4,5,6,7,8,9]\n",
    "print(numeros + 3)"
   ]
  },
  {
   "cell_type": "markdown",
   "metadata": {
    "colab_type": "text",
    "id": "z5l3spVJ775e"
   },
   "source": [
    "¡Nos salta un error! (Notar que la opción de Googlear el error en Stack Overflow esta vez es más informativa.). Entonces, te proponemos que resuelvas los siguientes ejercicios:\n",
    "\n",
    "\n",
    "1. Crear una rutina que le sume tres a los diez primeros números naturales y vaya imprimiendo en pantalla a medida que lo hace.\n",
    "2. Crear una rutina que le sume tres a los diez primeros números naturales y guarde los resultados en una nueva lista. Al final, imprimir esa lista en pantalla.\n",
    "\n",
    "Si necesitas unas pistas, puedes clickear [aquí](https://colab.research.google.com/drive/1gfqynizt4gSsitlZELigCL1jIdlYkpmS), ¡pero te recomendamos que antes lo intentes!"
   ]
  },
  {
   "cell_type": "code",
   "execution_count": null,
   "metadata": {
    "colab": {
     "base_uri": "https://localhost:8080/",
     "height": 191
    },
    "colab_type": "code",
    "id": "Cf4kcg6fCcL8",
    "outputId": "a68efb9c-10b0-4022-bc57-e07be5104bbb"
   },
   "outputs": [],
   "source": [
    "numeros = [0,1,2,3,4,5,6,7,8,9]\n",
    "for numero in numeros:\n",
    "    print(numero + 3)"
   ]
  },
  {
   "cell_type": "code",
   "execution_count": null,
   "metadata": {
    "colab": {
     "base_uri": "https://localhost:8080/",
     "height": 34
    },
    "colab_type": "code",
    "id": "SLQUER3i9LFq",
    "outputId": "922e924d-0faf-4af5-be77-fcee8b3748ee"
   },
   "outputs": [],
   "source": [
    "numeros = [0,1,2,3,4,5,6,7,8,9]\n",
    "resultados = []\n",
    "for numero in numeros:\n",
    "    resultados.append(numero + 3)\n",
    "print(resultados)"
   ]
  },
  {
   "cell_type": "markdown",
   "metadata": {
    "colab_type": "text",
    "id": "rqAE7lt-DPuV"
   },
   "source": [
    "**Para investigar y pensar**: ¿qué ocurriría si, en lugar de querer sumarle un número a los diez primeros números naturales, quisiéramos hacerlo sobre los primeros cien?¿Y si fuera el primer millón de números naturales?¿La rutina que creaste es fácilmente adaptable? Investiga cómo podrías adaptarla. Pista: `range()`"
   ]
  },
  {
   "cell_type": "code",
   "execution_count": null,
   "metadata": {},
   "outputs": [],
   "source": [
    "N = 100\n",
    "resultados = []\n",
    "for numero in range(N):\n",
    "    resultados.append(numero + 3)\n",
    "print(resultados)"
   ]
  },
  {
   "cell_type": "markdown",
   "metadata": {
    "colab_type": "text",
    "id": "565EnFNTVU3V"
   },
   "source": [
    "**Ejercicio 3**: Genere una lista llamada `numerotes` que contenga el cuadrado de cada elemento en la lista `numeritos`."
   ]
  },
  {
   "cell_type": "code",
   "execution_count": null,
   "metadata": {
    "colab": {
     "base_uri": "https://localhost:8080/",
     "height": 34
    },
    "colab_type": "code",
    "id": "YB0EcpVqV3hY",
    "outputId": "c6e450f4-7754-4f7c-e378-093bf27abd30"
   },
   "outputs": [],
   "source": [
    "numeritos = [3,1,5,7,12,10,17,4,22]\n",
    "numerotes = []\n",
    "for numero in numeritos:\n",
    "    numerotes.append(numero**2)\n",
    "print(numerotes)"
   ]
  },
  {
   "cell_type": "markdown",
   "metadata": {
    "colab_type": "text",
    "id": "pn21djUX2ms6"
   },
   "source": [
    "**Ejercicio 4:** estudiar qué ocurre si sumas,`+`, dos listas. ¿Cómo se llama esa operación?"
   ]
  },
  {
   "cell_type": "code",
   "execution_count": null,
   "metadata": {
    "colab": {
     "base_uri": "https://localhost:8080/",
     "height": 34
    },
    "colab_type": "code",
    "id": "VznWurp02l5K",
    "outputId": "8b742968-c38d-4068-c7ef-032d7f3376e2"
   },
   "outputs": [],
   "source": [
    "lista_1 = [1,5,-8,3]\n",
    "lista_2 = [True, 'Cocodrilo que se duerme es cartera', 9, -17, 98, False]\n",
    "print(lista_1 + lista_2)"
   ]
  },
  {
   "cell_type": "markdown",
   "metadata": {
    "colab_type": "text",
    "id": "mwZKZSXBEA9A"
   },
   "source": [
    "La operación se llama concatenación. En este caso, de listas."
   ]
  },
  {
   "cell_type": "markdown",
   "metadata": {
    "colab_type": "text",
    "id": "IR4u7CJok7is"
   },
   "source": [
    "**Ejercicio 5:** sumar todos los elementos de la siguiente lista. **Pistas:**\n",
    "* En un ejemplo anterior definimos una variable `i`, inicializada en cero, que fuimos modificando en cada paso de un `for`. Considerar la opción de definir una variable `suma` y utilizarla de forma parecida."
   ]
  },
  {
   "cell_type": "code",
   "execution_count": null,
   "metadata": {
    "colab": {
     "base_uri": "https://localhost:8080/",
     "height": 34
    },
    "colab_type": "code",
    "id": "OKSDg3W4k7K-",
    "outputId": "acf30df7-bd6c-4fe6-9ad1-5ad926c59853"
   },
   "outputs": [],
   "source": [
    "numeros = [4,8,3,1,-3,3,-5,1,2,-8]\n",
    "suma = 0\n",
    "for numero in numeros:\n",
    "    suma = suma + numero\n",
    "print(suma)"
   ]
  },
  {
   "cell_type": "markdown",
   "metadata": {
    "colab": {},
    "colab_type": "code",
    "id": "fjpBun1wlsCn"
   },
   "source": [
    "## Miremos flujos de control **While** y de decisiones con un Ejemplo"
   ]
  },
  {
   "cell_type": "code",
   "execution_count": 60,
   "metadata": {},
   "outputs": [
    {
     "name": "stdout",
     "output_type": "stream",
     "text": [
      "\n",
      "Bienvenidos al gimnacio. Que quieres hacer?\n",
      "\n",
      "[1] Digite 1 para tomar una bicicleta estatica.\n",
      "[2] Digite 2 para ir a las pesas.\n",
      "[3] Digite 3 para ir a la clase de yoga.\n",
      "[q] Digite q para quitar este menú.\n"
     ]
    },
    {
     "name": "stdin",
     "output_type": "stream",
     "text": [
      "\n",
      "Que quieres hacer?  1\n"
     ]
    },
    {
     "name": "stdout",
     "output_type": "stream",
     "text": [
      "\n",
      "Aqui esta tu bici. Diviertase!\n",
      "\n",
      "\n",
      "[1] Digite 1 para tomar una bicicleta estatica.\n",
      "[2] Digite 2 para ir a las pesas.\n",
      "[3] Digite 3 para ir a la clase de yoga.\n",
      "[q] Digite q para quitar este menú.\n"
     ]
    },
    {
     "name": "stdin",
     "output_type": "stream",
     "text": [
      "\n",
      "Que quieres hacer?  3\n"
     ]
    },
    {
     "name": "stdout",
     "output_type": "stream",
     "text": [
      "\n",
      "Este es el nombre de tu entrenado de yoga, Braulio.\n",
      "\n",
      "\n",
      "[1] Digite 1 para tomar una bicicleta estatica.\n",
      "[2] Digite 2 para ir a las pesas.\n",
      "[3] Digite 3 para ir a la clase de yoga.\n",
      "[q] Digite q para quitar este menú.\n"
     ]
    },
    {
     "name": "stdin",
     "output_type": "stream",
     "text": [
      "\n",
      "Que quieres hacer?  2\n"
     ]
    },
    {
     "name": "stdout",
     "output_type": "stream",
     "text": [
      "\n",
      "Este es el cuarto de pesas. Go for more!\n",
      "\n",
      "\n",
      "[1] Digite 1 para tomar una bicicleta estatica.\n",
      "[2] Digite 2 para ir a las pesas.\n",
      "[3] Digite 3 para ir a la clase de yoga.\n",
      "[q] Digite q para quitar este menú.\n"
     ]
    },
    {
     "name": "stdin",
     "output_type": "stream",
     "text": [
      "\n",
      "Que quieres hacer?  1\n"
     ]
    },
    {
     "name": "stdout",
     "output_type": "stream",
     "text": [
      "\n",
      "Aqui esta tu bici. Diviertase!\n",
      "\n",
      "\n",
      "[1] Digite 1 para tomar una bicicleta estatica.\n",
      "[2] Digite 2 para ir a las pesas.\n",
      "[3] Digite 3 para ir a la clase de yoga.\n",
      "[q] Digite q para quitar este menú.\n"
     ]
    },
    {
     "name": "stdin",
     "output_type": "stream",
     "text": [
      "\n",
      "Que quieres hacer?  q\n"
     ]
    },
    {
     "name": "stdout",
     "output_type": "stream",
     "text": [
      "\n",
      "Gracias por venir , visitanos pronto.\n",
      "\n",
      "Gracias de nuevo, nos veremso pronto.\n"
     ]
    }
   ],
   "source": [
    "# *Dar contexto\n",
    "print(\"\\nBienvenidos al gimnacio. Que quieres hacer?\")\n",
    "\n",
    "# configurar el valor inicial\n",
    "choice = ''\n",
    "\n",
    "# Iniciar el ciclo hasta qeu el usuario digite \"quit\"\n",
    "while choice != 'q':\n",
    "   \n",
    "    print(\"\\n[1] Digite 1 para tomar una bicicleta estatica.\")\n",
    "    print(\"[2] Digite 2 para ir a las pesas.\")\n",
    "    print(\"[3] Digite 3 para ir a la clase de yoga.\")\n",
    "    print(\"[q] Digite q para quitar este menú.\")\n",
    "    \n",
    "    # Preguntarle al usuario \n",
    "    choice = input(\"\\nQue quieres hacer? \")\n",
    "    \n",
    "    # Respond to the user's choice.\n",
    "    if choice == '1':\n",
    "        print(\"\\nAqui esta tu bici. Diviertase!\\n\")\n",
    "    elif choice == '2':\n",
    "        print(\"\\nEste es el cuarto de pesas. Go for more!\\n\")\n",
    "    elif choice == '3':\n",
    "        print(\"\\nEste es el nombre de tu entrenado de yoga, Braulio.\\n\")\n",
    "    elif choice == 'q':\n",
    "        print(\"\\nGracias por venir , visitanos pronto.\\n\")\n",
    "    else:\n",
    "        print(\"\\nNo entiendo tu decision, Intenta de nuevo porfa.\\n\")\n",
    "        \n",
    "# Print a message that we are all finished.\n",
    "print(\"Gracias de nuevo, nos veremso pronto.\")"
   ]
  },
  {
   "cell_type": "markdown",
   "metadata": {},
   "source": [
    "## Ejercicios"
   ]
  },
  {
   "cell_type": "markdown",
   "metadata": {},
   "source": [
    "- J. B. Büttner, maestro de un colegio alemán, castigó a todos los niños poniéndoles como tarea sumar los 100 primeros números naturales para tenerlos entretenidos y callados un buen rato. Carl Friedrich Gauss obtuvo la respuesta casi de inmediato, encontrando una fórmula para la suma de una serie de números naturales. No pedimos aquí llegar a la fórmula. Lo que pedimos en este ejercicio es hacer un programa que lo calcule sin utilizar la fórmula.\n",
    "\n",
    "- Tome las siguintes listas \n",
    "\n",
    "postres = ['torta', 'chocolate', 'galletas', 'helado'] \n",
    "\n",
    "postre_favorito = 'galletas'\n",
    "\n",
    "Para cada uno de los postres diga que le gusta pero para su postres favorito comente que es justamente su favorito.\n",
    "\n",
    "- Convierta lo siguiente en código que use un bucle while.\n",
    "\n",
    "2\n",
    "\n",
    "4\n",
    "\n",
    "6\n",
    "\n",
    "8\n",
    "\n",
    "10\n",
    "\n",
    "¡Adiós!\n",
    "\n",
    "- Realice  el ejercicio anterior pero con un for"
   ]
  },
  {
   "cell_type": "markdown",
   "metadata": {},
   "source": [
    "## Funciones"
   ]
  },
  {
   "cell_type": "code",
   "execution_count": 69,
   "metadata": {},
   "outputs": [],
   "source": [
    "def mi_funcion( x:int , y:int ) -> float:\n",
    "    x = x + 10\n",
    "    Y = y - 5\n",
    "    \n",
    "    return x / y\n",
    "    "
   ]
  },
  {
   "cell_type": "code",
   "execution_count": 63,
   "metadata": {},
   "outputs": [],
   "source": [
    "resultado = mi_funcion( 20 , 60 )\n"
   ]
  },
  {
   "cell_type": "code",
   "execution_count": 64,
   "metadata": {},
   "outputs": [
    {
     "data": {
      "text/plain": [
       "0.5"
      ]
     },
     "execution_count": 64,
     "metadata": {},
     "output_type": "execute_result"
    }
   ],
   "source": [
    "resultado"
   ]
  },
  {
   "cell_type": "code",
   "execution_count": 65,
   "metadata": {},
   "outputs": [
    {
     "data": {
      "text/plain": [
       "2.2"
      ]
     },
     "execution_count": 65,
     "metadata": {},
     "output_type": "execute_result"
    }
   ],
   "source": [
    "mi_funcion( 1 , 5 )"
   ]
  },
  {
   "cell_type": "code",
   "execution_count": 66,
   "metadata": {},
   "outputs": [
    {
     "data": {
      "text/plain": [
       "0.5"
      ]
     },
     "execution_count": 66,
     "metadata": {},
     "output_type": "execute_result"
    }
   ],
   "source": [
    "mi_funcion( 20 , 60 )"
   ]
  },
  {
   "cell_type": "code",
   "execution_count": null,
   "metadata": {},
   "outputs": [],
   "source": []
  },
  {
   "cell_type": "markdown",
   "metadata": {},
   "source": [
    "### Ventaja de hacer funciones"
   ]
  },
  {
   "cell_type": "markdown",
   "metadata": {},
   "source": [
    "Es posible que pueda ver algunas ventajas de usar funciones a través de este ejemplo:\n",
    "\n",
    "- Escribimos un conjunto de instrucciones una vez. Ahorramos algo de trabajo en este ejemplo simple y ahorramos aún más trabajo en programas más grandes.\n",
    "\n",
    "- Cuando nuestra función funciona, ya no tenemos que preocuparnos por ese código. Cada vez que repite el código en su programa, presenta la oportunidad de cometer un error. Escribir una función significa que hay un lugar para corregir errores, y cuando esos errores se corrijan, podemos estar seguros de que esta función seguirá funcionando correctamente.\n",
    "\n",
    "- Podemos modificar el comportamiento de nuestra función, y ese cambio entra en vigor cada vez que se llama a la función. Esto es mucho mejor que decidir que necesitamos un comportamiento nuevo y luego tener que cambiar el código en muchos lugares diferentes de nuestro programa."
   ]
  },
  {
   "cell_type": "code",
   "execution_count": 67,
   "metadata": {},
   "outputs": [],
   "source": [
    "def mostrar_estudientes(estudinte, mensaje):\n",
    "    #\n",
    "    print(mensaje)\n",
    "    for est in estudinte:\n",
    "        print(\"- \" + est.title())\n"
   ]
  },
  {
   "cell_type": "code",
   "execution_count": 68,
   "metadata": {},
   "outputs": [
    {
     "name": "stdout",
     "output_type": "stream",
     "text": [
      "Nuestros estdudintes en orden alfabetico.\n",
      "- Agus\n",
      "- Lucas\n",
      "- Mariano\n",
      "\n",
      "Nuestros estudintes en orden inverso al alfabetico.\n",
      "- Mariano\n",
      "- Lucas\n",
      "- Agus\n"
     ]
    }
   ],
   "source": [
    "estudiantes = ['Lucas', 'Agus', 'Mariano']\n",
    "\n",
    "# Poner lso estudintes en orden alfabetico\n",
    "estudiantes.sort()\n",
    "mostrar_estudientes(estudiantes, \"Nuestros estdudintes en orden alfabetico.\")\n",
    "\n",
    "#Poner lso estudintes en orden inverso al alfabetico\n",
    "estudiantes.sort(reverse=True)\n",
    "mostrar_estudientes(estudiantes, \"\\nNuestros estudintes en orden inverso al alfabetico.\")"
   ]
  },
  {
   "cell_type": "code",
   "execution_count": null,
   "metadata": {},
   "outputs": [],
   "source": []
  }
 ],
 "metadata": {
  "colab": {
   "collapsed_sections": [],
   "name": "DS_Bitácora_02_Python_RESUELTO.ipynb",
   "provenance": []
  },
  "kernelspec": {
   "display_name": "Python 3 (ipykernel)",
   "language": "python",
   "name": "python3"
  },
  "language_info": {
   "codemirror_mode": {
    "name": "ipython",
    "version": 3
   },
   "file_extension": ".py",
   "mimetype": "text/x-python",
   "name": "python",
   "nbconvert_exporter": "python",
   "pygments_lexer": "ipython3",
   "version": "3.9.12"
  }
 },
 "nbformat": 4,
 "nbformat_minor": 4
}
